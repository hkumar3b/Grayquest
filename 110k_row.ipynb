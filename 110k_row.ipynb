{
 "cells": [
  {
   "cell_type": "code",
   "execution_count": 1,
   "id": "ccf46621",
   "metadata": {},
   "outputs": [],
   "source": [
    "import pandas as pd\n",
    "import numpy as np\n",
    "from datetime import datetime, timedelta\n",
    "import random"
   ]
  },
  {
   "cell_type": "code",
   "execution_count": 2,
   "id": "207e3550",
   "metadata": {},
   "outputs": [],
   "source": [
    "rows = 100_000\n",
    "delivery_persons = 2000\n",
    "cities = ['Delhi', 'Mumbai', 'Bangalore', 'Hyderabad', 'Chennai', 'Kolkata', 'Pune', 'Ahmedabad']\n",
    "start_date = datetime(2025, 6, 1)\n",
    "end_date = datetime(2025, 6, 30)"
   ]
  },
  {
   "cell_type": "markdown",
   "id": "a21b37fa",
   "metadata": {},
   "source": [
    "# Generate data"
   ]
  },
  {
   "cell_type": "code",
   "execution_count": 3,
   "id": "17023520",
   "metadata": {},
   "outputs": [],
   "source": [
    "np.random.seed(42)\n",
    "random.seed(42)\n",
    "\n",
    "delivery_person_ids = np.random.randint(1000, 1000 + delivery_persons, size=rows)\n",
    "order_ids = [f\"ORD{100000 + i}\" for i in range(rows)]\n",
    "order_values = np.round(np.random.uniform(100, 2000, size=rows), 2)\n",
    "order_quantities = np.random.randint(1, 6, size=rows)\n",
    "cities_sample = np.random.choice(cities, size=rows)"
   ]
  },
  {
   "cell_type": "code",
   "execution_count": 4,
   "id": "6d32d2ed",
   "metadata": {},
   "outputs": [],
   "source": [
    "order_timestamps = [start_date + timedelta(seconds=random.randint(0, int((end_date - start_date).total_seconds()))) for _ in range(rows)]\n",
    "pickup_offsets = [timedelta(minutes=random.randint(5, 30)) for _ in range(rows)]\n",
    "delivery_offsets = [timedelta(minutes=random.randint(10, 60)) for _ in range(rows)]\n",
    "\n",
    "pickup_timestamps = [order + offset for order, offset in zip(order_timestamps, pickup_offsets)]\n",
    "delivery_timestamps = [pickup + offset for pickup, offset in zip(pickup_timestamps, delivery_offsets)]"
   ]
  },
  {
   "cell_type": "code",
   "execution_count": 9,
   "id": "e8fd5799",
   "metadata": {},
   "outputs": [],
   "source": [
    "ratings = np.random.choice([1, 2, 3, 4, 5], size=rows, p=[0.05, 0.1, 0.2, 0.35, 0.3])"
   ]
  },
  {
   "cell_type": "markdown",
   "id": "374acf3e",
   "metadata": {},
   "source": [
    "# Creating DataFrame"
   ]
  },
  {
   "cell_type": "code",
   "execution_count": 10,
   "id": "1c20a7ce",
   "metadata": {},
   "outputs": [],
   "source": [
    "df = pd.DataFrame({\n",
    "    'delivery_person_id': delivery_person_ids,\n",
    "    'order_id': order_ids,\n",
    "    'order_value': order_values,\n",
    "    'order_quantity': order_quantities,\n",
    "    'city': cities_sample,\n",
    "    'order_timestamp': order_timestamps,\n",
    "    'order_pickup_timestamp': pickup_timestamps,\n",
    "    'delivery_timestamp': delivery_timestamps,\n",
    "    'order_rating': ratings\n",
    "})"
   ]
  },
  {
   "cell_type": "code",
   "execution_count": 11,
   "id": "7db97267",
   "metadata": {},
   "outputs": [
    {
     "data": {
      "text/html": [
       "<div>\n",
       "<style scoped>\n",
       "    .dataframe tbody tr th:only-of-type {\n",
       "        vertical-align: middle;\n",
       "    }\n",
       "\n",
       "    .dataframe tbody tr th {\n",
       "        vertical-align: top;\n",
       "    }\n",
       "\n",
       "    .dataframe thead th {\n",
       "        text-align: right;\n",
       "    }\n",
       "</style>\n",
       "<table border=\"1\" class=\"dataframe\">\n",
       "  <thead>\n",
       "    <tr style=\"text-align: right;\">\n",
       "      <th></th>\n",
       "      <th>delivery_person_id</th>\n",
       "      <th>order_id</th>\n",
       "      <th>order_value</th>\n",
       "      <th>order_quantity</th>\n",
       "      <th>city</th>\n",
       "      <th>order_timestamp</th>\n",
       "      <th>order_pickup_timestamp</th>\n",
       "      <th>delivery_timestamp</th>\n",
       "      <th>order_rating</th>\n",
       "    </tr>\n",
       "  </thead>\n",
       "  <tbody>\n",
       "    <tr>\n",
       "      <th>0</th>\n",
       "      <td>2126</td>\n",
       "      <td>ORD100000</td>\n",
       "      <td>1181.01</td>\n",
       "      <td>4</td>\n",
       "      <td>Ahmedabad</td>\n",
       "      <td>2025-06-06 09:42:36</td>\n",
       "      <td>2025-06-06 10:07:36</td>\n",
       "      <td>2025-06-06 10:31:36</td>\n",
       "      <td>1</td>\n",
       "    </tr>\n",
       "    <tr>\n",
       "      <th>1</th>\n",
       "      <td>2459</td>\n",
       "      <td>ORD100001</td>\n",
       "      <td>1422.54</td>\n",
       "      <td>2</td>\n",
       "      <td>Mumbai</td>\n",
       "      <td>2025-06-02 05:08:22</td>\n",
       "      <td>2025-06-02 05:33:22</td>\n",
       "      <td>2025-06-02 06:29:22</td>\n",
       "      <td>5</td>\n",
       "    </tr>\n",
       "    <tr>\n",
       "      <th>2</th>\n",
       "      <td>1860</td>\n",
       "      <td>ORD100002</td>\n",
       "      <td>268.19</td>\n",
       "      <td>5</td>\n",
       "      <td>Kolkata</td>\n",
       "      <td>2025-06-14 08:25:56</td>\n",
       "      <td>2025-06-14 08:36:56</td>\n",
       "      <td>2025-06-14 09:09:56</td>\n",
       "      <td>5</td>\n",
       "    </tr>\n",
       "    <tr>\n",
       "      <th>3</th>\n",
       "      <td>2294</td>\n",
       "      <td>ORD100003</td>\n",
       "      <td>1766.92</td>\n",
       "      <td>3</td>\n",
       "      <td>Ahmedabad</td>\n",
       "      <td>2025-06-12 21:19:10</td>\n",
       "      <td>2025-06-12 21:48:10</td>\n",
       "      <td>2025-06-12 22:39:10</td>\n",
       "      <td>3</td>\n",
       "    </tr>\n",
       "    <tr>\n",
       "      <th>4</th>\n",
       "      <td>2130</td>\n",
       "      <td>ORD100004</td>\n",
       "      <td>1124.13</td>\n",
       "      <td>2</td>\n",
       "      <td>Mumbai</td>\n",
       "      <td>2025-06-11 20:03:33</td>\n",
       "      <td>2025-06-11 20:29:33</td>\n",
       "      <td>2025-06-11 21:07:33</td>\n",
       "      <td>2</td>\n",
       "    </tr>\n",
       "  </tbody>\n",
       "</table>\n",
       "</div>"
      ],
      "text/plain": [
       "   delivery_person_id   order_id  order_value  order_quantity       city  \\\n",
       "0                2126  ORD100000      1181.01               4  Ahmedabad   \n",
       "1                2459  ORD100001      1422.54               2     Mumbai   \n",
       "2                1860  ORD100002       268.19               5    Kolkata   \n",
       "3                2294  ORD100003      1766.92               3  Ahmedabad   \n",
       "4                2130  ORD100004      1124.13               2     Mumbai   \n",
       "\n",
       "      order_timestamp order_pickup_timestamp  delivery_timestamp  order_rating  \n",
       "0 2025-06-06 09:42:36    2025-06-06 10:07:36 2025-06-06 10:31:36             1  \n",
       "1 2025-06-02 05:08:22    2025-06-02 05:33:22 2025-06-02 06:29:22             5  \n",
       "2 2025-06-14 08:25:56    2025-06-14 08:36:56 2025-06-14 09:09:56             5  \n",
       "3 2025-06-12 21:19:10    2025-06-12 21:48:10 2025-06-12 22:39:10             3  \n",
       "4 2025-06-11 20:03:33    2025-06-11 20:29:33 2025-06-11 21:07:33             2  "
      ]
     },
     "execution_count": 11,
     "metadata": {},
     "output_type": "execute_result"
    }
   ],
   "source": [
    "df.head()"
   ]
  },
  {
   "cell_type": "code",
   "execution_count": 12,
   "id": "aa5d45dd",
   "metadata": {},
   "outputs": [
    {
     "data": {
      "text/plain": [
       "(100000, 9)"
      ]
     },
     "execution_count": 12,
     "metadata": {},
     "output_type": "execute_result"
    }
   ],
   "source": [
    "df.shape"
   ]
  },
  {
   "cell_type": "code",
   "execution_count": 13,
   "id": "f1066ad8",
   "metadata": {},
   "outputs": [],
   "source": [
    "df.to_csv(\"swiggy_orders.csv\", index=False)\n"
   ]
  },
  {
   "cell_type": "code",
   "execution_count": null,
   "id": "9c41066a",
   "metadata": {},
   "outputs": [],
   "source": []
  }
 ],
 "metadata": {
  "kernelspec": {
   "display_name": "Python 3",
   "language": "python",
   "name": "python3"
  },
  "language_info": {
   "codemirror_mode": {
    "name": "ipython",
    "version": 3
   },
   "file_extension": ".py",
   "mimetype": "text/x-python",
   "name": "python",
   "nbconvert_exporter": "python",
   "pygments_lexer": "ipython3",
   "version": "3.11.9"
  }
 },
 "nbformat": 4,
 "nbformat_minor": 5
}
